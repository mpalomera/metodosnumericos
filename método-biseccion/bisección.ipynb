{
 "cells": [
  {
   "cell_type": "code",
   "execution_count": 1,
   "metadata": {
    "collapsed": false
   },
   "outputs": [
   ],
   "source": [
   ]
  },
  {
   "cell_type": "markdown",
   "metadata": {
    "collapsed": false
   },
   "source": [
    "Dado un rango inicial donde haya un cambio de signo, dividir el rango por mitad hasta encontrar la raiz."
   ]
  },
  {
   "cell_type": "code",
   "execution_count": 7,
   "metadata": {
    "collapsed": false
   },
   "outputs": [
    {
     "name": "stdout",
     "output_type": "stream",
     "text": [
      "-3.702957017104325e-05\n",
      "La raiz es 3.16227\n"
     ]
    }
   ],
   "source": [
    "import math\n",
    "import numpy as np\n",
    "import matplotlib.pyplot as plt\n",
    "\n",
    "def fun(x):\n",
    "    return x**2 - 10\n",
    "def fun(x):\n",
    "    return x**3 - 7*x**2 + 14*x - 6\n",
    "def fun(c):\n",
    "    return (667.38/c)*(1- math.exp(-6.81*c)) -40\n",
    "\n",
    "#Elegir valores iniciales x0 y x1\n",
    "#Donde haya un cambio de signo\n",
    "xarray = np.linspace(10,25,100)\n",
    "yarray = np.zeros(100)\n",
    "\n",
    "for i in range(100):\n",
    "    yarray[i] = fun(xarray[i])\n",
    "\n",
    "plt.plot(xarray,yarray)\n",
    "plt.grid()\n",
    "plt.show()\n",
    "x0 = 3\n",
    "x1 = 3.2\n",
    "\n",
    "for i in range(100):\n",
    "    f0 = fun(x0)\n",
    "    f1 = fun(x1)\n",
    "    if f0*f1 > 0:\n",
    "        print(\"No hay raiz en este rango\")\n",
    "        break\n",
    "    #x = (x0 + x1)/2\n",
    "    x = x0 - (f0*(x1-x0)/(f1-f0))\n",
    "    fx = fun(x)\n",
    "    if fx*f1 < 0:\n",
    "        x0 = x\n",
    "    else:\n",
    "        x1 = x\n",
    "    if abs(fx) < 0.005:\n",
    "        break\n",
    "print(fun(x0))\n",
    "print(\"La raiz es %.5f\"%x0)\n"
   ]
  },
  {
   "cell_type": "code",
   "execution_count": 0,
   "metadata": {
    "collapsed": false
   },
   "outputs": [
   ],
   "source": [
   ]
  }
 ],
 "metadata": {
  "kernelspec": {
   "display_name": "Python 3 (Anaconda 5)",
   "language": "python",
   "name": "anaconda5"
  },
  "language_info": {
   "codemirror_mode": {
    "name": "ipython",
    "version": 3
   },
   "file_extension": ".py",
   "mimetype": "text/x-python",
   "name": "python",
   "nbconvert_exporter": "python",
   "pygments_lexer": "ipython3",
   "version": "3.6.5"
  }
 },
 "nbformat": 4,
 "nbformat_minor": 0
}
